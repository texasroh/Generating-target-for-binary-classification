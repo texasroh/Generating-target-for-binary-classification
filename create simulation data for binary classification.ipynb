{
 "cells": [
  {
   "cell_type": "markdown",
   "metadata": {},
   "source": [
    "# Creating Simulation Data for Binary Classification\n",
    "\n",
    "<b>Note:</b> When you want to test your model, or provide some sample practice to your students,<br>\n",
    "this can be very useful\n",
    "\n",
    "#### This content includes\n",
    "<ol>\n",
    "    <li>How binary classification (Logistic regression) works</li>\n",
    "    <li>How generate simulation data</li>\n",
    "    <li>Test simulation data with sklearn logistic regerssion</li>\n",
    "</ol>"
   ]
  },
  {
   "cell_type": "markdown",
   "metadata": {},
   "source": [
    "## 1. How binary classification (Logistic regression) works\n",
    "The picture below shows how binary classification Algorithm works.<br>\n",
    "\n",
    "![figure1](./image/figure1.PNG)"
   ]
  },
  {
   "cell_type": "markdown",
   "metadata": {},
   "source": [
    "Logit has a output(z) of linear probability. <br>\n",
    "Easy example of logit is same as multivariabe linear regression model <br>\n",
    "<b>Example)</b>  $z = \\beta _0 + \\beta_1\\cdot x_1 + ... + \\beta_n \\cdot x_n$ <br>\n",
    "This output theoratically has a range of (-inf, inf)<br>"
   ]
  },
  {
   "cell_type": "markdown",
   "metadata": {},
   "source": [
    "In this example, I used only one input variable (x1).<br>\n",
    "I generated beta0 (intercept) and beta1 (coefficient of x1) with random number between 0 and 1 "
   ]
  },
  {
   "cell_type": "code",
   "execution_count": 1,
   "metadata": {},
   "outputs": [
    {
     "name": "stdout",
     "output_type": "stream",
     "text": [
      "beta0: [0.55596268],\n",
      "beta1: [0.89247389]\n"
     ]
    },
    {
     "data": {
      "text/plain": [
       "<Figure size 640x480 with 1 Axes>"
      ]
     },
     "metadata": {},
     "output_type": "display_data"
    }
   ],
   "source": [
    "import numpy as np\n",
    "import matplotlib.pyplot as plt\n",
    "\n",
    "np.random.seed(0)\n",
    "x1 = np.random.randn(1000) * 7\n",
    "beta0 = np.random.randn(1)\n",
    "beta1 = np.random.randn(1) \n",
    "print('beta0: {},\\nbeta1: {}'.format(beta0, beta1))\n",
    "z = beta0 + x1*beta1\n",
    "plt.scatter(x1, z, s=1)\n",
    "plt.xlabel('x1')\n",
    "plt.ylabel('z')\n",
    "plt.grid()\n",
    "plt.show()"
   ]
  },
  {
   "cell_type": "markdown",
   "metadata": {},
   "source": [
    "Sigmoid transforms output of logit into (0, 1)<br>\n",
    "<b>Sigmoid:</b><br>\n",
    "$P(y=1) = \\frac{1}{1+e^{-z}}$<br>\n",
    "P is the probability of being positive(1) in binary classification"
   ]
  },
  {
   "cell_type": "code",
   "execution_count": 2,
   "metadata": {},
   "outputs": [
    {
     "data": {
      "image/png": "[encoded data removed]",
      "text/plain": [
       "<Figure size 432x288 with 1 Axes>"
      ]
     },
     "metadata": {
      "needs_background": "light"
     },
     "output_type": "display_data"
    }
   ],
   "source": [
    "p = 1 / (1 + np.exp(-z))\n",
    "plt.scatter(x1, p, s=1)\n",
    "plt.axhline(0.5, color='black', linestyle='--', alpha=.3)\n",
    "plt.axhline(0, color='black', linestyle='--', alpha=.3)\n",
    "plt.axhline(1, color='black', linestyle='--', alpha=.3)\n",
    "plt.axvline(-beta0/beta1, color='black', linestyle='--', alpha=0.3)\n",
    "plt.xlabel('x1')\n",
    "plt.ylabel('P')\n",
    "plt.show()"
   ]
  },
  {
   "cell_type": "markdown",
   "metadata": {},
   "source": [
    "If P is equal or bigger than 0.5  (if p >= 0.5)<br>\n",
    "y prediction will be 1<br><br>\n",
    "Or P is less than 0.5  (if p < 0.5)<br>\n",
    "y prediction will be 0\n",
    "\n",
    "In this example, 51.2% is predicted as 1"
   ]
  },
  {
   "cell_type": "code",
   "execution_count": 3,
   "metadata": {},
   "outputs": [
    {
     "data": {
      "image/png": "[encoded data removed]",
      "text/plain": [
       "<Figure size 432x288 with 1 Axes>"
      ]
     },
     "metadata": {},
     "output_type": "display_data"
    }
   ],
   "source": [
    "y_prediction = np.zeros(1000)\n",
    "y_prediction[p>=0.5] = 1\n",
    "y_prediction = np.array(y_prediction, dtype=int)\n",
    "y_prediction.sum()/len(y_prediction)\n",
    "pie = np.bincount(y_prediction)\n",
    "plt.pie(pie, labels=np.arange(2), autopct='%1.1f%%')\n",
    "plt.show()"
   ]
  },
  {
   "cell_type": "markdown",
   "metadata": {},
   "source": [
    "## 2. How to generate simulation data\n",
    "\n",
    "There are two most common method to generate y value for simulation.\n",
    "<ol>\n",
    "    <li>Create simulated y same method as how we predict the y. <b>(Wrong way)</b></li>\n",
    "    If $p >= 0.5$, put 1, else, put 0\n",
    "    <li>Generate uniformed random number (r) between 0 and 1, and compare to p. <b>(Right way)</b></li>\n",
    "    If $r < p$, put 1, else, put 0\n",
    "</ol>"
   ]
  },
  {
   "cell_type": "code",
   "execution_count": 4,
   "metadata": {},
   "outputs": [
    {
     "name": "stderr",
     "output_type": "stream",
     "text": [
      "/home/study/jupyter/lib/python3.6/site-packages/sklearn/linear_model/logistic.py:432: FutureWarning: Default solver will be changed to 'lbfgs' in 0.22. Specify a solver to silence this warning.\n",
      "  FutureWarning)\n"
     ]
    }
   ],
   "source": [
    "from sklearn.linear_model import LogisticRegression\n",
    "\n",
    "x1 = x1.reshape(-1,1)\n",
    "y_wrong_way = np.zeros(1000)\n",
    "y_wrong_way[p>=0.5] = 1\n",
    "\n",
    "model = LogisticRegression()\n",
    "model.fit(x1, y_wrong_way)\n",
    "y_hat = model.predict(x1)"
   ]
  },
  {
   "cell_type": "code",
   "execution_count": 5,
   "metadata": {},
   "outputs": [
    {
     "data": {
      "text/plain": [
       "(array([2.40545658]), array([[4.20435562]]))"
      ]
     },
     "execution_count": 5,
     "metadata": {},
     "output_type": "execute_result"
    }
   ],
   "source": [
    "model.intercept_, model.coef_"
   ]
  },
  {
   "cell_type": "code",
   "execution_count": 6,
   "metadata": {},
   "outputs": [
    {
     "data": {
      "text/plain": [
       "(array([0.55596268]), array([0.89247389]))"
      ]
     },
     "execution_count": 6,
     "metadata": {},
     "output_type": "execute_result"
    }
   ],
   "source": [
    "beta0, beta1"
   ]
  },
  {
   "cell_type": "code",
   "execution_count": 7,
   "metadata": {},
   "outputs": [
    {
     "data": {
      "text/plain": [
       "array([[488,   1],\n",
       "       [  0, 511]])"
      ]
     },
     "execution_count": 7,
     "metadata": {},
     "output_type": "execute_result"
    }
   ],
   "source": [
    "from sklearn.metrics import accuracy_score, classification_report, confusion_matrix\n",
    "accuracy_score(y_hat, y_wrong_way)\n",
    "confusion_matrix(y_hat, y_wrong_way)"
   ]
  },
  {
   "cell_type": "markdown",
   "metadata": {},
   "source": [
    "With the y simulated in wrong way (first method),<br>\n",
    "accuracy of the logistic regression model is 99.9%.\n",
    "\n",
    "However, model predicted wrong intercept and coefficient.<br>\n",
    "Predicted intercept & coefficient : (2.40545658, 4.20435562) <br>\n",
    "Generated intercept & coefficient : (0.55596268, 0.89247389)\n",
    "\n",
    "This means the model is overfitted."
   ]
  },
  {
   "cell_type": "markdown",
   "metadata": {},
   "source": [
    "#### In the second method,\n",
    "\n",
    "P is probability of being 1<br>\n",
    "It is same as probability of <br>\n",
    "<b>\"Uniformly distributed random number [0,1) is placed between 0 ~ P\"</b>"
   ]
  },
  {
   "cell_type": "code",
   "execution_count": 8,
   "metadata": {},
   "outputs": [
    {
     "data": {
      "text/plain": [
       "0.508"
      ]
     },
     "execution_count": 8,
     "metadata": {},
     "output_type": "execute_result"
    }
   ],
   "source": [
    "r = np.random.rand(1000)\n",
    "y_right_way = np.zeros(1000)\n",
    "y_right_way[r<p] = 1\n",
    "y_right_way.sum()/len(y_right_way)"
   ]
  },
  {
   "cell_type": "code",
   "execution_count": 9,
   "metadata": {},
   "outputs": [
    {
     "name": "stderr",
     "output_type": "stream",
     "text": [
      "/home/study/jupyter/lib/python3.6/site-packages/sklearn/linear_model/logistic.py:432: FutureWarning: Default solver will be changed to 'lbfgs' in 0.22. Specify a solver to silence this warning.\n",
      "  FutureWarning)\n"
     ]
    }
   ],
   "source": [
    "model2 = LogisticRegression()\n",
    "model2.fit(x1, y_right_way)\n",
    "y_hat2 = model2.predict(x1)"
   ]
  },
  {
   "cell_type": "code",
   "execution_count": 10,
   "metadata": {},
   "outputs": [
    {
     "data": {
      "text/plain": [
       "(array([0.51700508]), array([[0.95608321]]))"
      ]
     },
     "execution_count": 10,
     "metadata": {},
     "output_type": "execute_result"
    }
   ],
   "source": [
    "model2.intercept_, model2.coef_"
   ]
  },
  {
   "cell_type": "code",
   "execution_count": 11,
   "metadata": {},
   "outputs": [
    {
     "data": {
      "text/plain": [
       "0.924"
      ]
     },
     "execution_count": 11,
     "metadata": {},
     "output_type": "execute_result"
    }
   ],
   "source": [
    "accuracy_score(y_hat2, y_right_way)"
   ]
  },
  {
   "cell_type": "markdown",
   "metadata": {},
   "source": [
    "With the y simulated in right way (second method),<br>\n",
    "accuracy of the logistic regression model is relatively lower than first method. (92.4%)\n",
    "\n",
    "However, model predicted intercept and coefficient way better.<br>\n",
    "Predicted intercept & coefficient : (0.51700508, 0.95608321)<br>\n",
    "Generated intercept & coefficient : (0.55596268, 0.89247389)"
   ]
  },
  {
   "cell_type": "code",
   "execution_count": null,
   "metadata": {},
   "outputs": [],
   "source": []
  }
 ],
 "metadata": {
  "kernelspec": {
   "display_name": "Python 3",
   "language": "python",
   "name": "python3"
  },
  "language_info": {
   "codemirror_mode": {
    "name": "ipython",
    "version": 3
   },
   "file_extension": ".py",
   "mimetype": "text/x-python",
   "name": "python",
   "nbconvert_exporter": "python",
   "pygments_lexer": "ipython3",
   "version": "3.6.8"
  }
 },
 "nbformat": 4,
 "nbformat_minor": 4
}
